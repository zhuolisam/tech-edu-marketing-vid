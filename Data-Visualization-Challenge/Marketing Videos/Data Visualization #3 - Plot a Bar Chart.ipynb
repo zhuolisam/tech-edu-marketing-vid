{
 "cells": [
  {
   "cell_type": "code",
   "execution_count": 4,
   "metadata": {},
   "outputs": [],
   "source": [
    "#import libraries\n",
    "import matplotlib.pyplot as plt\n",
    "import seaborn as sns"
   ]
  },
  {
   "cell_type": "code",
   "execution_count": 5,
   "metadata": {},
   "outputs": [],
   "source": [
    "#crete example data\n",
    "education_quality = ['high school', 'bachelor', 'master', 'doctor','master','high school','high school', 'bachelor','high school', 'bachelor','high school']\n",
    "age = [10,35,12,45,35,10,12,10,26,35,10]"
   ]
  },
  {
   "cell_type": "code",
   "execution_count": 6,
   "metadata": {},
   "outputs": [
    {
     "data": {
      "text/plain": [
       "<AxesSubplot:>"
      ]
     },
     "execution_count": 6,
     "metadata": {},
     "output_type": "execute_result"
    },
    {
     "data": {
      "image/png": "[encoded data removed]",
      "text/plain": [
       "<Figure size 864x432 with 1 Axes>"
      ]
     },
     "metadata": {
      "needs_background": "light"
     },
     "output_type": "display_data"
    }
   ],
   "source": [
    "# Set the figure size to (12,6)\n",
    "plt.figure(figsize=(12,6))\n",
    "\n",
    "#Plot a bar chart. Bar chart is useful for showing stats of categorical data.\n",
    "#In seaborn, if the plotted feature has multiple category, it will plot the mean for that particular category.\n",
    "sns.barplot(x = education_quality, y = age)"
   ]
  }
 ],
 "metadata": {
  "kernelspec": {
   "display_name": "Python 3 (ipykernel)",
   "language": "python",
   "name": "python3"
  },
  "language_info": {
   "codemirror_mode": {
    "name": "ipython",
    "version": 3
   },
   "file_extension": ".py",
   "mimetype": "text/x-python",
   "name": "python",
   "nbconvert_exporter": "python",
   "pygments_lexer": "ipython3",
   "version": "3.8.8"
  },
  "vscode": {
   "interpreter": {
    "hash": "321754f99c55ececfac3ace3ba6f9ad7c8d456a507972916405eb01b4e52db5e"
   }
  }
 },
 "nbformat": 4,
 "nbformat_minor": 2
}
